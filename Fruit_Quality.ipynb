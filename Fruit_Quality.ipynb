{
  "nbformat": 4,
  "nbformat_minor": 0,
  "metadata": {
    "colab": {
      "name": "Fruit Quality",
      "version": "0.3.2",
      "provenance": [],
      "collapsed_sections": [],
      "toc_visible": true,
      "include_colab_link": true
    },
    "kernelspec": {
      "name": "python3",
      "display_name": "Python 3"
    },
    "accelerator": "GPU"
  },
  "cells": [
    {
      "cell_type": "markdown",
      "metadata": {
        "id": "view-in-github",
        "colab_type": "text"
      },
      "source": [
        "<a href=\"https://colab.research.google.com/github/ronan99/FruitQuality/blob/master/Fruit_Quality\" target=\"_parent\"><img src=\"https://colab.research.google.com/assets/colab-badge.svg\" alt=\"Open In Colab\"/></a>"
      ]
    },
    {
      "cell_type": "code",
      "metadata": {
        "id": "O1FNFDfDDa6D",
        "colab_type": "code",
        "colab": {
          "base_uri": "https://localhost:8080/",
          "height": 34
        },
        "outputId": "9587520a-983c-437a-bc4e-544d3748cdd4"
      },
      "source": [
        "from numpy import array\n",
        "from PIL import Image\n",
        "import matplotlib.pyplot as plt\n",
        "from keras.preprocessing.image import ImageDataGenerator\n",
        "from keras.models import Sequential\n",
        "from keras.layers import Conv2D, MaxPooling2D\n",
        "from keras.layers import Activation, Dropout, Flatten, Dense\n",
        "from keras import backend as K\n",
        "import numpy as np\n",
        "from keras.preprocessing import image\n",
        "import keras\n",
        "from keras import regularizers, optimizers"
      ],
      "execution_count": 1,
      "outputs": [
        {
          "output_type": "stream",
          "text": [
            "Using TensorFlow backend.\n"
          ],
          "name": "stderr"
        }
      ]
    },
    {
      "cell_type": "code",
      "metadata": {
        "id": "OGNLNFIzDdPb",
        "colab_type": "code",
        "colab": {}
      },
      "source": [
        "from google.colab import files\n",
        "import os\n",
        "import zipfile\n",
        "\n",
        "if not os.path.exists(\"/content/kaggle.json\"):\n",
        "  f= open(\"kaggle.json\",\"w+\")\n",
        "  f.write(\"{\\\"username\\\":\\\"ronan99\\\",\\\"key\\\":\\\"1c0a53b3f270310914936fea6801b644\\\"}\")\n",
        "  f.close()"
      ],
      "execution_count": 0,
      "outputs": []
    },
    {
      "cell_type": "code",
      "metadata": {
        "id": "L5DC43ssDg2C",
        "colab_type": "code",
        "colab": {
          "base_uri": "https://localhost:8080/",
          "height": 119
        },
        "outputId": "1621c244-d200-4ed4-9ca8-b13d4d31fe69"
      },
      "source": [
        "!ls -lha kaggle.json\n",
        "!pip install -q kaggle\n",
        "\n",
        "# The Kaggle API client expects this file to be in ~/.kaggle,\n",
        "# so move it there.\n",
        "!mkdir -p ~/.kaggle\n",
        "!cp kaggle.json ~/.kaggle/\n",
        "\n",
        "# This permissions change avoids a warning on Kaggle tool startup.\n",
        "!chmod 600 ~/.kaggle/kaggle.json\n",
        "!kaggle config path -p /content\n",
        "!kaggle datasets download -d sriramr/fruits-fresh-and-rotten-for-classification\n",
        "import shutil\n"
      ],
      "execution_count": 3,
      "outputs": [
        {
          "output_type": "stream",
          "text": [
            "-rw-r--r-- 1 root root 63 Aug 29 17:59 kaggle.json\n",
            "usage: kaggle config [-h] {view,set,unset} ...\n",
            "kaggle config: error: argument command: invalid choice: 'path' (choose from 'view', 'set', 'unset')\n",
            "Downloading fruits-fresh-and-rotten-for-classification.zip to /content\n",
            " 99% 1.78G/1.79G [00:20<00:00, 87.4MB/s]\n",
            "100% 1.79G/1.79G [00:20<00:00, 94.0MB/s]\n"
          ],
          "name": "stdout"
        }
      ]
    },
    {
      "cell_type": "code",
      "metadata": {
        "id": "46F_lvx_DlGq",
        "colab_type": "code",
        "colab": {}
      },
      "source": [
        "if not os.path.exists(\"/content/fruits-fresh-and-rotten-for-classification\"):\n",
        "  os.makedirs(\"/content/fruits-fresh-and-rotten-for-classification\")\n",
        "os.rename('/content/fruits-fresh-and-rotten-for-classification.zip','/content/fruits-fresh-and-rotten-for-classification/fruits-fresh-and-rotten-for-classification.zip')\n",
        "\n",
        "os.chdir('/content/fruits-fresh-and-rotten-for-classification')\n",
        "for file in os.listdir():\n",
        "    zip_ref = zipfile.ZipFile(file, 'r')\n",
        "    zip_ref.extractall()\n",
        "    zip_ref.close()"
      ],
      "execution_count": 0,
      "outputs": []
    },
    {
      "cell_type": "code",
      "metadata": {
        "id": "i4E10d5oDSyS",
        "colab_type": "code",
        "outputId": "c6090fd9-ccff-49b3-b930-be15a8d542c5",
        "colab": {
          "base_uri": "https://localhost:8080/",
          "height": 51
        }
      },
      "source": [
        "\n",
        "img_width, img_height = 150, 150\n",
        "train_data_dir = '/content/fruits-fresh-and-rotten-for-classification/dataset/train'\n",
        "validation_data_dir = '/content/fruits-fresh-and-rotten-for-classification/dataset/test'\n",
        "\n",
        "nb_train_samples = 10901\n",
        "nb_validation_samples = 2698\n",
        "epochs = 40\n",
        "batch_size = 32\n",
        "if K.image_data_format() == 'wa':\n",
        "    input_shape = (3, img_width, img_height)\n",
        "else:\n",
        "    input_shape = (img_width, img_height, 3)\n",
        "\n",
        "train_datagen = ImageDataGenerator(rescale=1./255., validation_split=0.25)\n",
        "\n",
        "test_datagen = ImageDataGenerator(rescale=1. / 255)\n",
        "\n",
        "train_generator = train_datagen.flow_from_directory(\n",
        "    train_data_dir,\n",
        "    target_size=(img_width, img_height),\n",
        "    batch_size=batch_size,\n",
        "    seed=42,\n",
        "    shuffle=True,\n",
        "    class_mode='categorical'\n",
        ")\n",
        "\n",
        "validation_generator = test_datagen.flow_from_directory(\n",
        "    validation_data_dir,\n",
        "    target_size=(img_width, img_height),\n",
        "    batch_size=batch_size,\n",
        "    seed=42,\n",
        "    shuffle=True,\n",
        "    class_mode='categorical'\n",
        ")\n"
      ],
      "execution_count": 5,
      "outputs": [
        {
          "output_type": "stream",
          "text": [
            "Found 10901 images belonging to 6 classes.\n",
            "Found 2698 images belonging to 6 classes.\n"
          ],
          "name": "stdout"
        }
      ]
    },
    {
      "cell_type": "code",
      "metadata": {
        "id": "mOXLCaoQEviB",
        "colab_type": "code",
        "colab": {}
      },
      "source": [
        "classifier = Sequential()\n",
        "\n",
        "classifier.add(keras.layers.Conv2D(40, (3, 3), input_shape = [150,150,3], activation = 'relu'))\n",
        "classifier.add(keras.layers.MaxPooling2D(pool_size = (2, 2)))\n",
        "\n",
        "classifier.add(Conv2D(80, (5, 5), activation = 'relu'))\n",
        "classifier.add(MaxPooling2D(pool_size = (2, 2)))\n",
        "\n",
        "classifier.add(Conv2D(120, (3, 3), activation = 'relu'))\n",
        "classifier.add(MaxPooling2D(pool_size = (2, 2)))\n",
        "classifier.add(Dropout(0.25))\n",
        "\n",
        "classifier.add(Conv2D(80, (3, 3), activation = 'relu'))\n",
        "classifier.add(MaxPooling2D(pool_size = (2, 2)))\n",
        "\n",
        "\n",
        "classifier.add(Flatten())\n",
        "\n",
        "classifier.add(Dense(units = 128, activation = 'relu'))\n",
        "classifier.add(Dropout(0.25))\n",
        "\n",
        "classifier.add(Dense(units = 6, activation = 'softmax'))\n",
        "\n",
        "classifier.compile(optimizer = 'adam', loss = 'categorical_crossentropy', metrics = ['accuracy'])"
      ],
      "execution_count": 0,
      "outputs": []
    },
    {
      "cell_type": "code",
      "metadata": {
        "id": "yRtvIKfzEt_a",
        "colab_type": "code",
        "colab": {
          "base_uri": "https://localhost:8080/",
          "height": 1000
        },
        "outputId": "8090f751-e4d4-4089-ab0c-61ec5fe371ad"
      },
      "source": [
        "\n",
        "STEP_SIZE_TRAIN = train_generator.n // train_generator.batch_size\n",
        "STEP_SIZE_VALID = validation_generator.n // validation_generator.batch_size\n",
        "# this is the augmentation configuration we will use for training\n",
        "hist = classifier.fit_generator(\n",
        "    generator=train_generator,\n",
        "    steps_per_epoch=STEP_SIZE_TRAIN,\n",
        "    validation_data=validation_generator,\n",
        "    validation_steps=STEP_SIZE_VALID,\n",
        "    epochs=50\n",
        ")\n",
        "\n"
      ],
      "execution_count": 11,
      "outputs": [
        {
          "output_type": "stream",
          "text": [
            "Epoch 1/50\n",
            "340/340 [==============================] - 74s 218ms/step - loss: 0.6738 - acc: 0.7475 - val_loss: 0.3144 - val_acc: 0.8828\n",
            "Epoch 2/50\n",
            "340/340 [==============================] - 67s 196ms/step - loss: 0.3098 - acc: 0.8897 - val_loss: 0.2777 - val_acc: 0.9089\n",
            "Epoch 3/50\n",
            "340/340 [==============================] - 66s 195ms/step - loss: 0.2299 - acc: 0.9186 - val_loss: 0.1661 - val_acc: 0.9389\n",
            "Epoch 4/50\n",
            "340/340 [==============================] - 68s 199ms/step - loss: 0.1986 - acc: 0.9289 - val_loss: 0.1383 - val_acc: 0.9520\n",
            "Epoch 5/50\n",
            "340/340 [==============================] - 65s 192ms/step - loss: 0.1609 - acc: 0.9448 - val_loss: 0.0860 - val_acc: 0.9685\n",
            "Epoch 6/50\n",
            "340/340 [==============================] - 66s 194ms/step - loss: 0.1233 - acc: 0.9564 - val_loss: 0.1223 - val_acc: 0.9580\n",
            "Epoch 7/50\n",
            "340/340 [==============================] - 67s 197ms/step - loss: 0.1110 - acc: 0.9604 - val_loss: 0.1201 - val_acc: 0.9625\n",
            "Epoch 8/50\n",
            "340/340 [==============================] - 66s 195ms/step - loss: 0.1172 - acc: 0.9625 - val_loss: 0.1607 - val_acc: 0.9434\n",
            "Epoch 9/50\n",
            "340/340 [==============================] - 67s 198ms/step - loss: 0.0914 - acc: 0.9672 - val_loss: 0.0816 - val_acc: 0.9696\n",
            "Epoch 10/50\n",
            "340/340 [==============================] - 68s 201ms/step - loss: 0.0757 - acc: 0.9759 - val_loss: 0.1311 - val_acc: 0.9692\n",
            "Epoch 11/50\n",
            "340/340 [==============================] - 67s 198ms/step - loss: 0.0759 - acc: 0.9738 - val_loss: 0.0625 - val_acc: 0.9771\n",
            "Epoch 12/50\n",
            "340/340 [==============================] - 68s 200ms/step - loss: 0.0782 - acc: 0.9740 - val_loss: 0.0613 - val_acc: 0.9760\n",
            "Epoch 13/50\n",
            "340/340 [==============================] - 68s 199ms/step - loss: 0.0605 - acc: 0.9787 - val_loss: 0.1100 - val_acc: 0.9621\n",
            "Epoch 14/50\n",
            "340/340 [==============================] - 64s 189ms/step - loss: 0.0485 - acc: 0.9836 - val_loss: 0.0683 - val_acc: 0.9775\n",
            "Epoch 15/50\n",
            "340/340 [==============================] - 64s 188ms/step - loss: 0.0705 - acc: 0.9773 - val_loss: 0.0346 - val_acc: 0.9876\n",
            "Epoch 16/50\n",
            "340/340 [==============================] - 66s 194ms/step - loss: 0.0445 - acc: 0.9846 - val_loss: 0.1042 - val_acc: 0.9704\n",
            "Epoch 17/50\n",
            "340/340 [==============================] - 65s 192ms/step - loss: 0.0591 - acc: 0.9810 - val_loss: 0.0949 - val_acc: 0.9670\n",
            "Epoch 18/50\n",
            "340/340 [==============================] - 65s 192ms/step - loss: 0.0403 - acc: 0.9875 - val_loss: 0.0551 - val_acc: 0.9839\n",
            "Epoch 19/50\n",
            "340/340 [==============================] - 66s 193ms/step - loss: 0.0289 - acc: 0.9905 - val_loss: 0.0520 - val_acc: 0.9857\n",
            "Epoch 20/50\n",
            "340/340 [==============================] - 66s 195ms/step - loss: 0.0200 - acc: 0.9929 - val_loss: 0.0767 - val_acc: 0.9805\n",
            "Epoch 21/50\n",
            "340/340 [==============================] - 67s 196ms/step - loss: 0.0746 - acc: 0.9777 - val_loss: 0.2967 - val_acc: 0.9246\n",
            "Epoch 22/50\n",
            "340/340 [==============================] - 62s 182ms/step - loss: 0.0588 - acc: 0.9795 - val_loss: 0.0546 - val_acc: 0.9820\n",
            "Epoch 23/50\n",
            "340/340 [==============================] - 63s 185ms/step - loss: 0.0382 - acc: 0.9874 - val_loss: 0.0726 - val_acc: 0.9797\n",
            "Epoch 24/50\n",
            "340/340 [==============================] - 65s 192ms/step - loss: 0.0668 - acc: 0.9792 - val_loss: 0.0408 - val_acc: 0.9876\n",
            "Epoch 25/50\n",
            "340/340 [==============================] - 65s 191ms/step - loss: 0.0214 - acc: 0.9935 - val_loss: 0.0996 - val_acc: 0.9715\n",
            "Epoch 26/50\n",
            "340/340 [==============================] - 65s 191ms/step - loss: 0.0367 - acc: 0.9882 - val_loss: 0.0376 - val_acc: 0.9884\n",
            "Epoch 27/50\n",
            "340/340 [==============================] - 65s 192ms/step - loss: 0.0317 - acc: 0.9882 - val_loss: 0.0881 - val_acc: 0.9790\n",
            "Epoch 28/50\n",
            "340/340 [==============================] - 67s 197ms/step - loss: 0.0200 - acc: 0.9937 - val_loss: 0.0257 - val_acc: 0.9914\n",
            "Epoch 29/50\n",
            "340/340 [==============================] - 66s 193ms/step - loss: 0.0173 - acc: 0.9950 - val_loss: 0.0649 - val_acc: 0.9861\n",
            "Epoch 30/50\n",
            "340/340 [==============================] - 66s 193ms/step - loss: 0.0458 - acc: 0.9869 - val_loss: 0.0763 - val_acc: 0.9816\n",
            "Epoch 31/50\n",
            "340/340 [==============================] - 64s 188ms/step - loss: 0.0483 - acc: 0.9861 - val_loss: 0.0465 - val_acc: 0.9884\n",
            "Epoch 32/50\n",
            "340/340 [==============================] - 63s 184ms/step - loss: 0.0290 - acc: 0.9912 - val_loss: 0.0380 - val_acc: 0.9910\n",
            "Epoch 33/50\n",
            "340/340 [==============================] - 67s 198ms/step - loss: 0.0281 - acc: 0.9908 - val_loss: 0.0408 - val_acc: 0.9899\n",
            "Epoch 34/50\n",
            "340/340 [==============================] - 66s 193ms/step - loss: 0.0274 - acc: 0.9913 - val_loss: 0.1064 - val_acc: 0.9771\n",
            "Epoch 35/50\n",
            "340/340 [==============================] - 65s 190ms/step - loss: 0.0339 - acc: 0.9896 - val_loss: 0.0993 - val_acc: 0.9764\n",
            "Epoch 36/50\n",
            "340/340 [==============================] - 63s 186ms/step - loss: 0.0447 - acc: 0.9890 - val_loss: 0.0282 - val_acc: 0.9891\n",
            "Epoch 37/50\n",
            "340/340 [==============================] - 66s 195ms/step - loss: 0.0279 - acc: 0.9906 - val_loss: 0.0824 - val_acc: 0.9820\n",
            "Epoch 38/50\n",
            "340/340 [==============================] - 65s 192ms/step - loss: 0.0064 - acc: 0.9976 - val_loss: 0.0332 - val_acc: 0.9929\n",
            "Epoch 39/50\n",
            "340/340 [==============================] - 65s 192ms/step - loss: 0.0416 - acc: 0.9888 - val_loss: 0.1933 - val_acc: 0.9516\n",
            "Epoch 40/50\n",
            "340/340 [==============================] - 65s 190ms/step - loss: 0.0365 - acc: 0.9889 - val_loss: 0.0605 - val_acc: 0.9869\n",
            "Epoch 41/50\n",
            "340/340 [==============================] - 65s 190ms/step - loss: 0.0288 - acc: 0.9914 - val_loss: 0.0449 - val_acc: 0.9876\n",
            "Epoch 42/50\n",
            "340/340 [==============================] - 65s 191ms/step - loss: 0.0249 - acc: 0.9926 - val_loss: 0.0976 - val_acc: 0.9794\n",
            "Epoch 43/50\n",
            "340/340 [==============================] - 64s 189ms/step - loss: 0.0167 - acc: 0.9944 - val_loss: 0.0449 - val_acc: 0.9891\n",
            "Epoch 44/50\n",
            "340/340 [==============================] - 64s 188ms/step - loss: 0.0498 - acc: 0.9870 - val_loss: 0.0635 - val_acc: 0.9809\n",
            "Epoch 45/50\n",
            "340/340 [==============================] - 65s 191ms/step - loss: 0.0154 - acc: 0.9951 - val_loss: 0.0629 - val_acc: 0.9872\n",
            "Epoch 46/50\n",
            "340/340 [==============================] - 65s 190ms/step - loss: 0.0340 - acc: 0.9910 - val_loss: 0.0842 - val_acc: 0.9801\n",
            "Epoch 47/50\n",
            "340/340 [==============================] - 66s 193ms/step - loss: 0.0194 - acc: 0.9933 - val_loss: 0.0344 - val_acc: 0.9914\n",
            "Epoch 48/50\n",
            "340/340 [==============================] - 68s 200ms/step - loss: 0.0115 - acc: 0.9963 - val_loss: 0.0617 - val_acc: 0.9869\n",
            "Epoch 49/50\n",
            "340/340 [==============================] - 67s 198ms/step - loss: 0.0160 - acc: 0.9954 - val_loss: 0.0419 - val_acc: 0.9880\n",
            "Epoch 50/50\n",
            "340/340 [==============================] - 66s 195ms/step - loss: 0.0279 - acc: 0.9900 - val_loss: 0.0491 - val_acc: 0.9914\n"
          ],
          "name": "stdout"
        }
      ]
    },
    {
      "cell_type": "code",
      "metadata": {
        "id": "dMdPSe2n5Bro",
        "colab_type": "code",
        "outputId": "4a27a368-6488-4dbe-d541-28c04daafab4",
        "colab": {
          "base_uri": "https://localhost:8080/",
          "height": 595
        }
      },
      "source": [
        "classifier.summary()"
      ],
      "execution_count": 12,
      "outputs": [
        {
          "output_type": "stream",
          "text": [
            "Model: \"sequential_4\"\n",
            "_________________________________________________________________\n",
            "Layer (type)                 Output Shape              Param #   \n",
            "=================================================================\n",
            "conv2d_13 (Conv2D)           (None, 148, 148, 40)      1120      \n",
            "_________________________________________________________________\n",
            "max_pooling2d_13 (MaxPooling (None, 74, 74, 40)        0         \n",
            "_________________________________________________________________\n",
            "conv2d_14 (Conv2D)           (None, 70, 70, 80)        80080     \n",
            "_________________________________________________________________\n",
            "max_pooling2d_14 (MaxPooling (None, 35, 35, 80)        0         \n",
            "_________________________________________________________________\n",
            "conv2d_15 (Conv2D)           (None, 33, 33, 120)       86520     \n",
            "_________________________________________________________________\n",
            "max_pooling2d_15 (MaxPooling (None, 16, 16, 120)       0         \n",
            "_________________________________________________________________\n",
            "dropout_7 (Dropout)          (None, 16, 16, 120)       0         \n",
            "_________________________________________________________________\n",
            "conv2d_16 (Conv2D)           (None, 14, 14, 80)        86480     \n",
            "_________________________________________________________________\n",
            "max_pooling2d_16 (MaxPooling (None, 7, 7, 80)          0         \n",
            "_________________________________________________________________\n",
            "flatten_4 (Flatten)          (None, 3920)              0         \n",
            "_________________________________________________________________\n",
            "dense_7 (Dense)              (None, 128)               501888    \n",
            "_________________________________________________________________\n",
            "dropout_8 (Dropout)          (None, 128)               0         \n",
            "_________________________________________________________________\n",
            "dense_8 (Dense)              (None, 6)                 774       \n",
            "=================================================================\n",
            "Total params: 756,862\n",
            "Trainable params: 756,862\n",
            "Non-trainable params: 0\n",
            "_________________________________________________________________\n"
          ],
          "name": "stdout"
        }
      ]
    },
    {
      "cell_type": "code",
      "metadata": {
        "id": "niPLQJEGPHx8",
        "colab_type": "code",
        "outputId": "c35d3abc-7ea0-4428-d7b4-ec112091bfc3",
        "colab": {
          "base_uri": "https://localhost:8080/",
          "height": 295
        }
      },
      "source": [
        "plt.plot(hist.history['acc'])\n",
        "plt.plot(hist.history['val_acc'])\n",
        "plt.title('Model accuracy')\n",
        "plt.ylabel('Accuracy')\n",
        "plt.xlabel('Epoch')\n",
        "plt.legend(['Train', 'Test'], loc='upper left')\n",
        "plt.show()"
      ],
      "execution_count": 14,
      "outputs": [
        {
          "output_type": "display_data",
          "data": {
            "image/png": "[encoded data removed]",
            "text/plain": [
              "<Figure size 432x288 with 1 Axes>"
            ]
          },
          "metadata": {
            "tags": []
          }
        }
      ]
    },
    {
      "cell_type": "code",
      "metadata": {
        "id": "DGD7y-kQ0fwQ",
        "colab_type": "code",
        "colab": {}
      },
      "source": [
        "import numpy as np\n",
        "from PIL import Image\n",
        "\n",
        "def imgReturn(path):\n",
        "  img = Image.open(path)\n",
        "  img = img.resize((150,150))\n",
        "  img = np.array(img).astype(np.float32)[None,:,:,:]\n",
        "  if(img.shape[3]==3):\n",
        "    img = np.reshape(img,[1,150,150,3])\n",
        "    return img\n",
        "  return img"
      ],
      "execution_count": 0,
      "outputs": []
    },
    {
      "cell_type": "code",
      "metadata": {
        "id": "dXBlu7IverB2",
        "colab_type": "code",
        "colab": {}
      },
      "source": [
        "path =  '/content/fruits-fresh-and-rotten-for-classification/dataset/train/freshapples'\n",
        "for file in os.listdir(path):\n",
        "  testImg = imgReturn(path+'/'+file)\n",
        "  if(testImg.shape[3]==3):\n",
        "    predict = inception_transfer.predict(testImg)\n",
        "    print(predict)\n",
        "    \n",
        "  \n",
        "  "
      ],
      "execution_count": 0,
      "outputs": []
    },
    {
      "cell_type": "code",
      "metadata": {
        "id": "EGJP1uTZIMGt",
        "colab_type": "code",
        "colab": {}
      },
      "source": [
        "import os\n",
        "from os import listdir, makedirs\n",
        "from os.path import join, exists, expanduser\n",
        "\n",
        "from keras import applications\n",
        "from keras.preprocessing.image import ImageDataGenerator\n",
        "from keras import optimizers\n",
        "from keras.models import Sequential, Model\n",
        "from keras.layers import Dense, GlobalAveragePooling2D\n",
        "from keras.layers import Activation, Dropout, Flatten, Dense\n",
        "from keras import backend as K\n",
        "import tensorflow as tf"
      ],
      "execution_count": 0,
      "outputs": []
    },
    {
      "cell_type": "code",
      "metadata": {
        "id": "dvjZ7k1nIRPI",
        "colab_type": "code",
        "colab": {
          "base_uri": "https://localhost:8080/",
          "height": 102
        },
        "outputId": "e1b1da96-5733-44c0-a18b-bfca4f4045a6"
      },
      "source": [
        "cache_dir = expanduser(join('~', '.keras'))\n",
        "if not exists(cache_dir):\n",
        "    makedirs(cache_dir)\n",
        "models_dir = join(cache_dir, 'models')\n",
        "if not exists(models_dir):\n",
        "    makedirs(models_dir)\n",
        "    \n",
        "!cp ../input/keras-pretrained-models/*notop* ~/.keras/models/\n",
        "!cp ../input/keras-pretrained-models/imagenet_class_index.json ~/.keras/models/\n",
        "!cp ../input/keras-pretrained-models/resnet50* ~/.keras/models/\n",
        "\n",
        "print(\"Available Pretrained Models:\\n\")\n",
        "!ls ~/.keras/models"
      ],
      "execution_count": 16,
      "outputs": [
        {
          "output_type": "stream",
          "text": [
            "cp: cannot stat '../input/keras-pretrained-models/*notop*': No such file or directory\n",
            "cp: cannot stat '../input/keras-pretrained-models/imagenet_class_index.json': No such file or directory\n",
            "cp: cannot stat '../input/keras-pretrained-models/resnet50*': No such file or directory\n",
            "Available Pretrained Models:\n",
            "\n"
          ],
          "name": "stdout"
        }
      ]
    },
    {
      "cell_type": "code",
      "metadata": {
        "id": "fm-A3JPIISmG",
        "colab_type": "code",
        "colab": {
          "base_uri": "https://localhost:8080/",
          "height": 139
        },
        "outputId": "b952d403-54a1-4129-bd5b-63b632c00dfd"
      },
      "source": [
        "inception_base = applications.ResNet50(weights='imagenet', include_top=False)\n",
        "\n",
        "# add a global spatial average pooling layer\n",
        "x = inception_base.output\n",
        "x = GlobalAveragePooling2D()(x)\n",
        "# add a fully-connected layer\n",
        "x = Dense(512, activation='relu')(x)\n",
        "# and a fully connected output/classification layer\n",
        "predictions = Dense(6, activation='softmax')(x)\n",
        "# create the full network so we can train on it\n",
        "inception_transfer = Model(inputs=inception_base.input, outputs=predictions)"
      ],
      "execution_count": 17,
      "outputs": [
        {
          "output_type": "stream",
          "text": [
            "W0829 19:55:53.609659 139802027734912 deprecation_wrapper.py:119] From /usr/local/lib/python3.6/dist-packages/keras/backend/tensorflow_backend.py:2041: The name tf.nn.fused_batch_norm is deprecated. Please use tf.compat.v1.nn.fused_batch_norm instead.\n",
            "\n",
            "/usr/local/lib/python3.6/dist-packages/keras_applications/resnet50.py:265: UserWarning: The output shape of `ResNet50(include_top=False)` has been changed since Keras 2.2.0.\n",
            "  warnings.warn('The output shape of `ResNet50(include_top=False)` '\n"
          ],
          "name": "stderr"
        },
        {
          "output_type": "stream",
          "text": [
            "Downloading data from https://github.com/fchollet/deep-learning-models/releases/download/v0.2/resnet50_weights_tf_dim_ordering_tf_kernels_notop.h5\n",
            "94658560/94653016 [==============================] - 2s 0us/step\n"
          ],
          "name": "stdout"
        }
      ]
    },
    {
      "cell_type": "code",
      "metadata": {
        "id": "oHWOQ04dIhOV",
        "colab_type": "code",
        "colab": {}
      },
      "source": [
        "inception_transfer.compile(loss='categorical_crossentropy',\n",
        "              optimizer=optimizers.SGD(lr=1e-4, momentum=0.9),\n",
        "              metrics=['accuracy'])"
      ],
      "execution_count": 0,
      "outputs": []
    },
    {
      "cell_type": "code",
      "metadata": {
        "id": "PU26Ai2sItKm",
        "colab_type": "code",
        "outputId": "4c63ffee-3add-4076-edc8-1c90a9207b6f",
        "colab": {
          "base_uri": "https://localhost:8080/",
          "height": 207
        }
      },
      "source": [
        "histTransf = inception_transfer.fit_generator(\n",
        "    generator=train_generator,\n",
        "    steps_per_epoch=STEP_SIZE_TRAIN,\n",
        "    validation_data=validation_generator,\n",
        "    validation_steps=STEP_SIZE_VALID,\n",
        "    epochs=5\n",
        ")"
      ],
      "execution_count": 19,
      "outputs": [
        {
          "output_type": "stream",
          "text": [
            "Epoch 1/5\n",
            "340/340 [==============================] - 188s 552ms/step - loss: 0.6796 - acc: 0.8006 - val_loss: 0.2033 - val_acc: 0.9565\n",
            "Epoch 2/5\n",
            "340/340 [==============================] - 178s 523ms/step - loss: 0.1567 - acc: 0.9659 - val_loss: 0.0853 - val_acc: 0.9842\n",
            "Epoch 3/5\n",
            "340/340 [==============================] - 178s 524ms/step - loss: 0.0842 - acc: 0.9830 - val_loss: 0.0539 - val_acc: 0.9902\n",
            "Epoch 4/5\n",
            "340/340 [==============================] - 177s 520ms/step - loss: 0.0574 - acc: 0.9885 - val_loss: 0.0372 - val_acc: 0.9940\n",
            "Epoch 5/5\n",
            "340/340 [==============================] - 177s 519ms/step - loss: 0.0423 - acc: 0.9928 - val_loss: 0.0296 - val_acc: 0.9955\n"
          ],
          "name": "stdout"
        }
      ]
    },
    {
      "cell_type": "code",
      "metadata": {
        "id": "6sKaDR_yOfmY",
        "colab_type": "code",
        "colab": {
          "base_uri": "https://localhost:8080/",
          "height": 295
        },
        "outputId": "880bf502-7ca7-49ed-a779-334a1e41a9a4"
      },
      "source": [
        "plt.plot(histTransf.history['acc'])\n",
        "plt.plot(histTransf.history['val_acc'])\n",
        "plt.title('Model accuracy')\n",
        "plt.ylabel('Accuracy')\n",
        "plt.xlabel('Epoch')\n",
        "plt.legend(['Train', 'Test'], loc='upper left')\n",
        "plt.show()"
      ],
      "execution_count": 20,
      "outputs": [
        {
          "output_type": "display_data",
          "data": {
            "image/png": "[encoded data removed]",
            "text/plain": [
              "<Figure size 432x288 with 1 Axes>"
            ]
          },
          "metadata": {
            "tags": []
          }
        }
      ]
    }
  ]
}
